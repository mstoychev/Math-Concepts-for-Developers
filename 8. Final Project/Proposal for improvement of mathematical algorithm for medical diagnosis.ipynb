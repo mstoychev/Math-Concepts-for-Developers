{
 "cells": [
  {
   "cell_type": "markdown",
   "id": "ebe31878",
   "metadata": {},
   "source": [
    "#####  *Python libraries used for this notebook project* #####"
   ]
  },
  {
   "cell_type": "code",
   "execution_count": 6,
   "id": "14e73d3f",
   "metadata": {},
   "outputs": [],
   "source": [
    "%matplotlib inline\n",
    "import matplotlib.pyplot as plt\n",
    "import numpy as np"
   ]
  },
  {
   "cell_type": "markdown",
   "id": "cc7a1d47",
   "metadata": {},
   "source": [
    "<h1><center> PROPOSAL FOR THE IMPROVEMENT OF A MATHEMATICAL ALGORITHM </center></h1>\n",
    "<h2><center> FRAX® FOR MEDICAL DIAGNOSIS </center></h2>"
   ]
  },
  {
   "cell_type": "markdown",
   "id": "0f2c1bd0",
   "metadata": {},
   "source": [
    "### Abstract ###\n",
    "The algorithm of the Fracture Risk Assessment Tool (FRAX) is a web application that calculates the 10-year probability of an individual between 40 and 90 years of suffering a hip fracture or any other osteoportic fracture based on a series of clinical risk factors.\n",
    "In order to improve the accuracy of the algorithm, a specific risk factor is added to the initial information: a series of radiographs of the patient. An aditional improving algorithm will automatically analize them and will calculate the \n",
    "risk with more accurate way."
   ]
  },
  {
   "cell_type": "markdown",
   "id": "e86fc636",
   "metadata": {},
   "source": [
    "### General proyect content ###"
   ]
  },
  {
   "cell_type": "markdown",
   "id": "97f6172c",
   "metadata": {},
   "source": [
    "1. Introducction\n",
    "2. Fracture Risk Assesment Tool\n",
    "    * 2.1. What is FRAX?\n",
    "    * 2.2. Risk Factors\n",
    "3. Improvement of FRAX web aplication\n",
    "4. Last conclutions\n",
    "5. Bibliography"
   ]
  },
  {
   "cell_type": "markdown",
   "id": "1002daf7",
   "metadata": {},
   "source": [
    "### Charts content ###\n",
    "1. Histogramas\n",
    "2. Graficos\n",
    "3. mimimi"
   ]
  },
  {
   "cell_type": "markdown",
   "id": "b4e12b0d",
   "metadata": {},
   "source": [
    "### 1. Introduction ###"
   ]
  },
  {
   "cell_type": "markdown",
   "id": "82caa859",
   "metadata": {},
   "source": [
    "This chapter introduces the different backgrounds and motivations to develop this final project.\n",
    "\n",
    "**Bone fractures** are a major public health problem. Hip fracture is one of the most important causes of morbidity and mortality in elderly patients and is a challenge for health systems worldwide, both due to its frequency and its high economic cost. In the United States of America alone, it is estimated that 200.000 hip fractures will occur annually at a cost of billions of dollars and it is expected that by 2040 the problem will triple. **[1,2]**\n",
    "\n",
    "Early identification of patients at higher risk of suffering a fracture is essential to prevent its occurrence. \n",
    "To do this, different tools are designed based on mathematical algorithms to assess the risk of fracture that feed different patient data. For example, *FRAX®*, *QFracture®*, Canadian Osteoporosis Society, the Nguyen algorithm, and the Dutch algorithm.\n",
    "\n",
    "**Osteoporosis** weakens bones to the point that they can break easily. It is called a “silent disease” because people who develop it may not notice any changes until a bone breaks — usually a bone in the hip, spine, or wrist. While people of all races and ethnic groups can develop osteoporosis, certain groups are more likely to develop the disease. \n",
    "It is a disease linked to aging, which affects about one in five women and one in twenty men, over age of 50.\n",
    "\n",
    "**Bone Mineral Density(BMD)** is used as an **indirect indicator** of osteoporosis and fracture risk. BDM is the amount of bone mineral in bone tissue. The concept is of mass of mineral per volume of bone (relating to density in the physics sense), although clinically it is measured by proxy according to optical density per square centimetre of bone surface upon imaging. The most commonly used BMD test is called a **central dual-energy X-ray absorptiometry**(**DXA**). Bone mineral density could help prevent fractures, allowing the diagnosis of osteoporosis before a fracture event occurs.\n",
    "\n",
    "However, The imperfect capture of risk with BMD alone poses several problems for the clinical assessment of fracture risk.\n",
    "The performance characteristics of the test are less than optimal in terms of the trade-off between sensitivity and specificity \n",
    "The osteoporotic fractures affect a substantial minority of the population, so based only on BDM detection, sensivity is low. \n",
    "For example, the annual incidence of hip fracture increases approximately 30 times between the ages of 50 and 90, however considering only the bone mineral density basis, studies expect an increase of only 4 times. **[3]**\n",
    "Another big disadvantage of BMD is its high cost. There are many countries that currently do not have such a device widely distributed.\n",
    "\n",
    "Due to the difficulties presented by the BMD determination test itself, other tools emerge considering more independent risk factors.\n",
    "\n",
    "The main objective of this work is try to improve the *FRAX* tool, increasing its probability accuracy through an algorithm that analyzes a series of additional radiographs of patients."
   ]
  },
  {
   "cell_type": "markdown",
   "id": "50ee1cda",
   "metadata": {},
   "source": [
    "### 2. Fracture Risk Assesment Tool ###"
   ]
  },
  {
   "cell_type": "markdown",
   "id": "e4387915",
   "metadata": {},
   "source": [
    "#### 2.1. What is Frax? ####\n",
    "The Fracture Risk Assesment Tool (*FRAX*) is a mathematical algorithm, which was developed by Kanis and others at the University of Sheffield with the sponsorship of World **Health Organization (WHO)**, in order to assess the risk in patients of suffering a fracture. \n",
    "*FRAX* is an *on-line* tool which calculates risk of fracture from a number of clinical risk factors, whether bone mineral density is known or not. It´s probably the most internationally recognized method for determining the fracture risk, thanks to the quality of the data used on its methodology and calculations. \n",
    "\n",
    "This *FRAX* model has been validated in 11 study cohorts across the world. The aplication computes the probability of hip fracture and of the most important osteoporotic fractures at a 10-year view (spinal, forearm, shoulder, or hip clinic).\n",
    "\n",
    "*FRAX*  is not an infallible tool and it does have its **limitations**. It should be noted that the Body Mineral Density is not a precious method for predicting osteoporotic fractures, but *FRAX* works better if the BMD is known. Other example, could be the **Body Mass Index** $ BMI = \\frac{mass(kg)} {height(m)^2} $ may be altered patients with high muscular development(BMI increases, the risk may be overestimated) or by decreased height in patients with vertebral fractures. In these patients, the risk may be underestimated (the worst possible scenario). "
   ]
  },
  {
   "cell_type": "markdown",
   "id": "e38bf526",
   "metadata": {},
   "source": [
    "#### 2.2. Risk Factors ####\n",
    "*FRAX* counts with different risk factors for calculate the individual´s probability of hip fracture or osteoporotic fracture.\n",
    "In the process of determining an individual's probability of fracture, the FRAX tool takes into account different risk indicators.\n",
    "\n",
    "1. Bone mineral density (BMD)\n",
    "\n",
    "Bone mineral density, as a risk factor of the FRAX algorithm, is evaluated in the *femoral neck* by DXA, but\n",
    "there are a few cohort studies where DXA was used on the *distal forearm*. As mentioned in the previous section, FRAX may or may not count on the BMD value. To measure this variable is used the **T-Score**, according to the World Health Organization. This score indicates the the amount in **standard deviations(SD)** that the subject varies from the young adult mean.\n",
    "The following table details the DS for T-Score criteria for the diagnosis of osteoporosis according to the WHO.\n",
    "\n",
    "|T-Score                                      |  Category            |\n",
    "|---------------------------------------------|----------------------|\n",
    "|T-Score > -1 SD                              | Normal               |\n",
    "|-2,5 SD < T-Score < -1 SD                    | Osteopenia           |\n",
    "|T-Score < -2,5 SD                            | Osteoporosis         |\n",
    "|T-Score < -2,5 SD + one or more fractures    | Severe osteoporosis  |\n",
    "\n",
    "As previously mentioned, having BMD alone is insufficient to identify all individuals at risk of fracture, since these fractures affect a minority of the population (low sensitivity). On the other hand, it should be noted that obtaining a T-Score > 1,5 SD not imply a guarantee of not suffering a fracture. Therefore, to better estimate risk there is a need to use more risk factors.\n",
    "\n",
    "2. Age\n",
    "\n",
    "The model accepts ages between 40 and 90 years. If ages below or above are entered, the programme will compute probabilities at 40 and 90 year, respectively. The increase in risk with increasing age can vary up to 4 times when compared to BMD alone**[3]**.\n",
    "\n",
    "3. Sex\n",
    "\n",
    "It's binary factor, male or female. Men are less susceptible to osteoporosis than women, especially in the years when estrogen levels decrease, that is, the period after menopause.\n",
    "\n",
    "4. Weight\n",
    "\n",
    "This should be entered in kg.\n",
    "\n",
    "5. Height\n",
    "\n",
    "This should be entered in cm.\n",
    "\n",
    "6. BMI\n",
    "\n",
    "The patient does not have to calculate it manually, the algorithm does it automatically. It is expressed in 𝑘𝑔/𝑚2. At one end a low BMI leads to a higher probability of a fracture and in the other obesity is not protective against fracture in postmenopausal women and increases the risk of fracture at some sites.**[4]**\n",
    "\n",
    "6. Previous fracture\n",
    "\n",
    "It´s binary factor, yes or not. A previous fracture denotes more accurately a previous fracture in adult life occurring spontaneously, or a fracture arising from trauma which, in a healthy individual, would not have resulted in a fracture.\n",
    "\n",
    "\n",
    "7. Parent fractured hip\n",
    "\n",
    "It´s binary factor, yes or not. This enquires for a history of hip fracture in the patient's mother or father. \n",
    "A parental history of fracture was associated with a modest but significantly increased risk of any fracture, osteoporotic fracture and hip fracture in men and women combined. **[5]**\n",
    "\n",
    "8. Current smoking\n",
    "\n",
    "It´s binary factor, yes or not depending on whether the patient currently smokes tobacco. It is known that smoking is a dose-dependent risk factor, so the risk increases with increasing doses **[6]**. However, the amount of tobacco consumed is not taken into account in the calculations since the model is based on information from cohort studies where such information is not available. \n",
    "\n",
    "9. Glucocorticoids\n",
    "\n",
    "It´s binary factor, yes or not. As in the case of tobacco, the dose consumed is not taken into account in the calculations. However, there is a dose-risk relationship. **[7], [8]**\n",
    "\n",
    "10. Rheumatoid arthritis\n",
    "\n",
    "It´s binary factor, yes or not. A factor that has importance on the risk of osteoporotic fracture. Increased prevalence of osteoporosis 2 times even in populations with younger ranges than FRAX. **[9]** Diagnosed rheumatoid arthritis carries a higher risk of fracture than indicated by BMD alone. **[8]**\n",
    "\n",
    "\n",
    "11. Secondary osteoporosis\n",
    "\n",
    "It´s binary factor, yes or not. Secondary osteoporisis include disorder strongly associated with osteoporosis: diabetes type I (insulin dependent), osteogenesis imperfecta in adults, untreated long-standing hyperthyroidism, hypogonadism or premature menopause (<45 years), chronic malnutrition, or malabsorption and chronic liver disease.\n",
    "\n",
    "\n",
    "12. Alcohol\n",
    "\n",
    "It´s binary factor, yes if the patient takes 3 or more units of alcohol daily. A unit of alcohol varies slightly in different countries from 8-10g of alcohol. This is equivalent to a standard glass of beer (285ml), a single measure of spirits (30ml), a medium-sized glass of wine (120ml), or 1 measure of an aperitif (60ml). The amount of alcohol consumed is not taken into account. However, the risk steadily increased with higher intake of alcohol. **[10]**\n",
    "\n",
    "\n"
   ]
  },
  {
   "cell_type": "markdown",
   "id": "859fcf7e",
   "metadata": {},
   "source": [
    "### 3. Improvement of FRAX web aplication ###"
   ]
  },
  {
   "cell_type": "markdown",
   "id": "9ba8d366",
   "metadata": {},
   "source": [
    "#### 3.1 X-rays, a specific risk factor ####\n",
    "To improve the application of FRAX an additional factor is added, a series of radiographs, to obtain a more accurate fracture probability of hip or osteoporotic fractures.\n",
    "\n",
    "Conventional radiographs are not the most appropriate method for the early diagnosis of osteoporosis. This is because to detect deformations in the image there must be a minimum of between 30% and 50% loss of bone mass **[11]**. However, radiographs are widespread method and very useful techniques for the detection of osteoporotic fractures. The decrease in bone mineral density is reflected on X-ray images as a darkening of the bone.\n",
    "\n",
    "#### 3.2 Earth mover's distance ####\n",
    "In computer science, the **earth mover's distance (EMD)** is a distance-like measure of dissimilarity between two frequency distributions, densities, or measures over a region $D$. For probability distributions and normalized histograms, it reduces to the **Wasserstein metric**. Is a measure of the distance between two probability distributions in a given region.\n",
    "\n",
    "Multidimensional distributions are used in the description of features of an image. Due to this, the EMD is especially useful in measuring the similarity of two images with respect to their color and texture.\n",
    "\n",
    "To optimize processing time, the original distribution is converted to compressed distribution. In practice with images, compressing a multidimensional distribution is achieved using histograms.\n",
    "A histogram of a grayscale image is a graphical representation of the distribution of tones in the image. *The horizontal 𝑌 axis contains the different shades of grey, from left to right from black to pure white. The vertical 𝑋 axis shows the number of pixels the image has for each shade of gray represented on the Y axis.*\n",
    "\n",
    "The distance between two grayscale images can be calculated using the Earth mover´s distance. Intuitively, if each distribution is viewed as a unit amount of earth (soil) piled on $D$, the metric is the minimum amount of work of turning one pile into the other, which is assumed to be the amount of earth that needs to be moved times the mean distance it has to be moved.\n",
    "\n",
    "The EMD is based on solving a transportation problem using *linear programming*. Let be a set of points in $\\mathbb{R}^d$ with $d$ the dimension. These points are grouped in order to be represented in terms of clusters. Thus, each cluster is a single point in $\\mathbb{R}^d$ and the weight of the cluster is decided by the fraction of the distribution present in that cluster. This representation of a distribution by a set of clusters is called the *signature*. So a histogram can be interpreted as a signature.\n",
    "\n",
    "The objective is  is transforming one signature $P$ to another $Q$ with minimum amount of work. Assume that the signatures $P$ and $Q$ have $m$ and $n$ clusters respectively. \n",
    "\n",
    "$ P = \\{(p_1, w_{p1}),(p_2, w_{p2}), ... , (p_m, w_{pm})\\} $\n",
    "\n",
    "$ Q = \\{(q_1, w_{q1}),(q_2, w_{q2}), ... , (q_m, w_{qn})\\} $\n",
    "\n",
    "where $p_i$ and $p_j$ are the representatives of the clusters and  $w_{pi}$ and $w_{qj}$ their weights. It must always be true that $w_{pi} > 0$ and $w_{qj} > 0$ .\n",
    "\n",
    "\n",
    "Let also $ D = \\begin{bmatrix} d_{ij}\\end{bmatrix} $ be the ground distance matrix between clusters $p_i$ and $p_j$.\n",
    "\n",
    "The idea is to find a flow $ F = \\begin{bmatrix} f_{ij}\\end{bmatrix} $, with $f_{ij}$ the flow between $p_i$ and $q_j$ that minimizes the overall cost:\n",
    "\n",
    "$\\min_\\limits{F} (P, Q) = \\sum_{i=1}^{m} \\sum_{j=1}^{n} f_{ij} d_{ij}$ \n",
    "\n",
    "subject to the next constraints:\n",
    "\n",
    "$ f_{ij} \\ge 0, 1\\le i \\le m,  1\\le j \\le n $\n",
    "\n",
    "$ \\sum_{j=1}^{n} f_{ij} \\le w_{pi}$ , $ 1 \\le i \\le m $\n",
    "\n",
    "$ \\sum_{i=1}^{m} f_{ij} \\le w_{qj}$ , $ 1 \\le j \\le n $\n",
    "\n",
    "$ \\sum_{i=1}^{m} \\sum_{j=1}^{n} f_{ij} = \\min\\left\\lbrace \\sum_{i=1}^{m} w_{pi}, \\sum_{j=1}^{n} w_{qj} \\right\\rbrace $\n",
    "\n",
    "\n",
    "The optimal flow $F$ is found by solving the linear optimization problem. Earth mover´s distance is defined as the resulting work normalized by the total flow. That is to say,\n",
    "\n",
    "**EMD (P,Q)** = $\\frac{\\min_\\limits{F} (P, Q)}{\\sum_{i=1}^{m} \\sum_{j=1}^{n} f_{ij}}$\n",
    "\n",
    "The EMD is applied to the signatures that subsume the histograms. It is computed, returning as a result the flow that minimizes the cost function and the value of this flow, which is interpreted as the distance between two images."
   ]
  },
  {
   "cell_type": "markdown",
   "id": "56da15c4",
   "metadata": {},
   "source": []
  },
  {
   "cell_type": "markdown",
   "id": "2adf1f3e",
   "metadata": {},
   "source": []
  },
  {
   "cell_type": "code",
   "execution_count": null,
   "id": "0de4612b",
   "metadata": {},
   "outputs": [],
   "source": []
  },
  {
   "cell_type": "code",
   "execution_count": null,
   "id": "19494c8b",
   "metadata": {},
   "outputs": [],
   "source": []
  },
  {
   "cell_type": "code",
   "execution_count": null,
   "id": "54a5bbf7",
   "metadata": {},
   "outputs": [],
   "source": []
  }
 ],
 "metadata": {
  "kernelspec": {
   "display_name": "Python 3 (ipykernel)",
   "language": "python",
   "name": "python3"
  },
  "language_info": {
   "codemirror_mode": {
    "name": "ipython",
    "version": 3
   },
   "file_extension": ".py",
   "mimetype": "text/x-python",
   "name": "python",
   "nbconvert_exporter": "python",
   "pygments_lexer": "ipython3",
   "version": "3.9.13"
  }
 },
 "nbformat": 4,
 "nbformat_minor": 5
}
