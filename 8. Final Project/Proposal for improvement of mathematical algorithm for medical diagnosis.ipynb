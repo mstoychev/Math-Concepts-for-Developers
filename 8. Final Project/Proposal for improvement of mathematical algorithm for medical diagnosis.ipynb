{
 "cells": [
  {
   "cell_type": "markdown",
   "id": "ebe31878",
   "metadata": {},
   "source": [
    "#####  *Python libraries used for this notebook project* #####"
   ]
  },
  {
   "cell_type": "code",
   "execution_count": 1,
   "id": "14e73d3f",
   "metadata": {},
   "outputs": [],
   "source": [
    "%matplotlib inline\n",
    "import matplotlib.pyplot as plt\n",
    "import numpy as np"
   ]
  },
  {
   "cell_type": "markdown",
   "id": "cc7a1d47",
   "metadata": {},
   "source": [
    "<h1><center> PROPOSAL FOR THE IMPROVEMENT OF A MATHEMATICAL ALGORITHM </center></h1>\n",
    "<h2><center> FRAX® FOR MEDICAL DIAGNOSIS </center></h2>"
   ]
  },
  {
   "cell_type": "markdown",
   "id": "0f2c1bd0",
   "metadata": {},
   "source": [
    "### Abstract ###\n",
    "The algorithm of the Fracture Risk Assessment Tool (FRAX) is a web application that calculates the 10-year probability of an individual between 40 and 90 years of suffering a hip fracture or any other osteoportic fracture based on a series of clinical risk factors.\n",
    "In order to improve the accuracy of the algorithm, a specific risk factor is added to the initial information: a series of radiographs of the patient. An aditional improving algorithm will automatically analize them and will calculate the the risk with more accurate way."
   ]
  },
  {
   "cell_type": "markdown",
   "id": "e86fc636",
   "metadata": {},
   "source": [
    "### General proyect content ###"
   ]
  },
  {
   "cell_type": "markdown",
   "id": "97f6172c",
   "metadata": {},
   "source": [
    "1. Introducction\n",
    "2. Fracture Risk Assesment Tool\n",
    "    * 2.1. What is FRAX?\n",
    "    * 2.2. Risk Factors\n",
    "3. Improvement of the web aplication\n",
    "4. Last conclutions\n",
    "5. Bibliography"
   ]
  },
  {
   "cell_type": "markdown",
   "id": "1002daf7",
   "metadata": {},
   "source": [
    "### Charts content ###\n",
    "1. Histogramas\n",
    "2. Graficos\n",
    "3. mimimi"
   ]
  },
  {
   "cell_type": "markdown",
   "id": "b4e12b0d",
   "metadata": {},
   "source": [
    "### 1. Introduction ###"
   ]
  },
  {
   "cell_type": "markdown",
   "id": "82caa859",
   "metadata": {},
   "source": [
    "This chapter introduces the different backgrounds and motivations to develop this final project.\n",
    "\n",
    "**Bone fractures** are a major public health problem. Hip fracture is one of the most important causes of morbidity and mortality in elderly patients and is a challenge for health systems worldwide, both due to its frequency and its high economic cost. In the United States of America alone, it is estimated that 200.000 hip fractures will occur annually at a cost of billions of dollars and it is expected that by 2040 the problem will triple. **[1,2]**\n",
    "\n",
    "Early identification of patients at higher risk of suffering a fracture is essential to prevent its occurrence. \n",
    "To do this, different tools are designed based on mathematical algorithms to assess the risk of fracture that feed different patient data. For example, *FRAX®*, *QFracture®*, Canadian Osteoporosis Society, the Nguyen algorithm, and the Dutch algorithm.\n",
    "\n",
    "**Osteoporosis** weakens bones to the point that they can break easily. It is called a “silent disease” because people who develop it may not notice any changes until a bone breaks — usually a bone in the hip, spine, or wrist. While people of all races and ethnic groups can develop osteoporosis, certain groups are more likely to develop the disease. \n",
    "It is a disease linked to aging, which affects about one in five women and one in twenty men, over age of 50.\n",
    "\n",
    "**Bone Mineral Density(BMD)** is used as an **indirect indicator** of osteoporosis and fracture risk. BDM is the amount of bone mineral in bone tissue. The concept is of mass of mineral per volume of bone (relating to density in the physics sense), although clinically it is measured by proxy according to optical density per square centimetre of bone surface upon imaging. The most commonly used BMD test is called a **central dual-energy X-ray absorptiometry**(**DXA**). Bone mineral density could help prevent fractures, allowing the diagnosis of osteoporosis before a fracture event occurs.\n",
    "\n",
    "However, The imperfect capture of risk with BMD alone poses several problems for the clinical assessment of fracture risk.\n",
    "The performance characteristics of the test are less than optimal in terms of the trade-off between sensitivity and specificity \n",
    "The osteoporotic fractures affect a substantial minority of the population, so based only on BDM detection, sensivity is low. \n",
    "For example, the annual incidence of hip fracture increases approximately 30 times between the ages of 50 and 90, however considering only the bone mineral density basis, studies expect an increase of only 4 times. **[3]**\n",
    "Another big disadvantage of BMD is its high cost. There are many countries that currently do not have such a device widely distributed.\n",
    "\n",
    "Due to the difficulties presented by the BMD determination test itself, other tools emerge considering more independent risk factors.\n",
    "\n",
    "The main objective of this work is try to improve the *FRAX* tool, increasing its probability accuracy through an algorithm that analyzes a series of additional radiographs of patients."
   ]
  },
  {
   "cell_type": "markdown",
   "id": "50ee1cda",
   "metadata": {},
   "source": [
    "### 2. Fracture Risk Assesment Tool ###"
   ]
  },
  {
   "cell_type": "markdown",
   "id": "e4387915",
   "metadata": {},
   "source": [
    "#### 2.1. What is Frax? ####\n",
    "The Fracture Risk Assesment Tool (*FRAX*) is a mathematical algorithm, which was developed by Kanis and others at the University of Sheffield with the sponsorship of World **Health Organization (WHO)**, in order to assess the risk in patients of suffering a fracture. \n",
    "*FRAX* is an *on-line* tool which calculates risk of fracture from a number of clinical risk factors, whether bone mineral density is known or not. It´s probably the most internationally recognized method for determining the fracture risk, thanks to the quality of the data used on its methodology and calculations. \n",
    "\n",
    "This *FRAX* model has been validated in 11 study cohorts across the world. The aplication computes the probability of hip fracture and of the most important osteoporotic fractures at a 10-year view (spinal, forearm, shoulder, or hip clinic).\n",
    "\n",
    "*FRAX*  is not an infallible tool and it does have its **limitations**. It should be noted that the Body Mineral Density is not a precious method for predicting osteoporotic fractures, but *FRAX* works better if the BMD is known. Other example, could be the **Body Mass Index** $ BMI = \\frac{mass(kg)} {height(m)^2} $ may be altered patients with high muscular development(BMI increases, the risk may be overestimated) or by decreased height in patients with vertebral fractures. In these patients, the risk may be underestimated (the worst possible scenario). "
   ]
  },
  {
   "cell_type": "markdown",
   "id": "e38bf526",
   "metadata": {},
   "source": [
    "#### 2.2. Risk Factors ####\n",
    "*FRAX* counts with different risk factors for calculate the individual´s probability of hip fracture or osteoporotic fracture.\n",
    "In the process of determining an individual's probability of fracture, the FRAX tool takes into account different risk indicators. \n",
    "As mentioned in the previous section, FRAX may or may not count on the BMD value. To measure this variable is used the **T-Score**, according to the World Health Organization is used. This score indicates the the amount in **standard deviations(SD)** that the subject varies from the young adult mean.\n",
    "The following table details the DS for T-Score criteria for the diagnosis of osteoporosis according to the WHO.\n",
    "\n",
    "|T-Score                                      |  Category            |\n",
    "|---------------------------------------------|----------------------|\n",
    "|T-Score > -1 DS                              | Normal               |\n",
    "|-2,5 DS < T-Score < -1 DS                    | Osteopenia           |\n",
    "|T-Score < -2,5 DS                            | Osteoporosis         |\n",
    "|T-Score < -2,5 DS + one or more fractures    | Severe osteoporosis  |\n",
    "\n",
    "\n",
    "\n"
   ]
  },
  {
   "cell_type": "code",
   "execution_count": null,
   "id": "98fabf8b",
   "metadata": {},
   "outputs": [],
   "source": []
  },
  {
   "cell_type": "code",
   "execution_count": null,
   "id": "3ee16f02",
   "metadata": {},
   "outputs": [],
   "source": []
  },
  {
   "cell_type": "code",
   "execution_count": null,
   "id": "e97b127a",
   "metadata": {},
   "outputs": [],
   "source": []
  },
  {
   "cell_type": "code",
   "execution_count": null,
   "id": "ea105ee0",
   "metadata": {},
   "outputs": [],
   "source": []
  },
  {
   "cell_type": "code",
   "execution_count": null,
   "id": "be774997",
   "metadata": {},
   "outputs": [],
   "source": []
  }
 ],
 "metadata": {
  "kernelspec": {
   "display_name": "Python 3 (ipykernel)",
   "language": "python",
   "name": "python3"
  },
  "language_info": {
   "codemirror_mode": {
    "name": "ipython",
    "version": 3
   },
   "file_extension": ".py",
   "mimetype": "text/x-python",
   "name": "python",
   "nbconvert_exporter": "python",
   "pygments_lexer": "ipython3",
   "version": "3.9.13"
  }
 },
 "nbformat": 4,
 "nbformat_minor": 5
}
