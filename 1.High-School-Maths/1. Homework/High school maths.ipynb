{
 "cells": [
  {
   "cell_type": "markdown",
   "id": "c6b0c182",
   "metadata": {},
   "source": [
    "# HIGH SCHOOL MATHS #"
   ]
  },
  {
   "cell_type": "markdown",
   "id": "ac58dcaf",
   "metadata": {},
   "source": [
    "### Table of contents ###\n",
    "1. Motivating examples\n",
    "2. Methods\n",
    "    -  Divide and conquer\n",
    "    -  Scientific method\n",
    "3. Math notation\n",
    "   -  Scientific notation\n",
    "   -  Summation\n",
    "4. Linear equations and system of equations\n"
   ]
  },
  {
   "cell_type": "markdown",
   "id": "0e4d2cda",
   "metadata": {},
   "source": [
    "### 1. Mathematics in Nature ###"
   ]
  },
  {
   "cell_type": "markdown",
   "id": "1d8921cd",
   "metadata": {},
   "source": [
    "**Honeycomb cells**\n",
    "Bees produce wax by consuming some of the honey they've made.\n",
    "Wax production takes time and energy (honey).\n",
    "The *hexagonal cells* leave no unused space, and consume the least amount of wax and energy.\n",
    "![Alt text](https://media.npr.org/assets/img/2013/05/13/honeycomb_wide-2c4f64a3a0de4582c1f62c306d23ef63da2e2d8c-s800-c85.webp) \n",
    "\n",
    "\n",
    "**Snowflakes**\n",
    "All snowflakes are unique but they are perfectly symmetrical.\n",
    "Each arm (unless damaged) is identical.\n",
    "This makes them strong enough to stay together.\n",
    "![Alt text](https://thewell.unc.edu/wp-content/uploads/sites/1007/2021/01/snowflakes.1200x675.shutterstock-1536x1024.jpg)\n",
    "\n",
    "\n",
    "\n",
    "**Romanesco broccoli**\n",
    "Each little floret looks exactly like the whole plant.\n",
    "This is called a *fractal*.\n",
    "Seen from above, the florets form a spiral.\n",
    "![Alt text](https://upload.wikimedia.org/wikipedia/commons/thumb/5/5e/Romanesco_broccoli_%28Brassica_oleracea%29.jpg/750px-Romanesco_broccoli_%28Brassica_oleracea%29.jpg)\n",
    "\n",
    "**Fibonacci spiral**\n",
    "Fibonacci spirals everywhere.\n",
    "Flowers, pinecones.\n",
    "Animal shells.\n",
    "Hurricanes.\n",
    "Galaxies.\n",
    "![Alt text](https://pbs.twimg.com/media/EXGR1U6UMAMFBKt?format=jpg&name=900x900)"
   ]
  },
  {
   "cell_type": "markdown",
   "id": "ea8a67f8",
   "metadata": {},
   "source": [
    "### 2. Methods ###"
   ]
  },
  {
   "cell_type": "markdown",
   "id": "30d07bcb",
   "metadata": {},
   "source": [
    "**2.1. Divide and conquer**\n",
    "+ Useful for any kind of problem. Especially in algorithms and debugging.\n",
    "\n",
    "+ **Assumption**: Complicated things are a combination of many, very simple things.\n",
    "+  Algorithms: for example, Merge sort.\n",
    "\n",
    "\n",
    "\n",
    "\n",
    "**2.2. The Scientific Method**\n",
    "+ Ask a question.\n",
    "\n",
    "+ Do some research.\n",
    "\n",
    "+ Form a hypothesis.\n",
    "\n",
    "+ Test the hypothesis with an experiment.\n",
    "\n",
    "+ Experiment works.\n",
    "⇒Analyze the data\n",
    "\n",
    "+ Experiment doesn't work.\n",
    "⇒Fix experiment\n",
    "\n",
    "+ Results align with hypothesis.\n",
    "⇒OK\n",
    "\n",
    "+ Results don't align with hypothesis.\n",
    "⇒new question, new hypothesis\n",
    "\n",
    "+ Communicate the results.\n",
    "\n",
    "\n",
    "**Why use the Scientific Method?**\n",
    "Useful when we're exploring something new.\n",
    "\n",
    "- A new algorithm.\n",
    "\n",
    "- A new codebase we've just been hired to work on.\n",
    "\n",
    "- Based on common logic.\n",
    "\n",
    "Experiments. Example: performance testing\n",
    "\n",
    "- Research:My logs show that this Web page on my server takes too much time to load.\n",
    "\n",
    "- Hypothesis: This piece of code is too slow. I need to improve it.\n",
    "\n",
    "- Control:Measure the runtime (in seconds).\n",
    "\n",
    "- Experiment: Try to fix the problem and repeat the runtime test.\n",
    "\n",
    "    - Did the fix bring a considerable performance gain?\n",
    "\n",
    "- Communication: Show the results and implement the fix."
   ]
  },
  {
   "cell_type": "markdown",
   "id": "f1407e71",
   "metadata": {},
   "source": [
    "### 3. Math Notation ###"
   ]
  },
  {
   "cell_type": "markdown",
   "id": "568f9082",
   "metadata": {},
   "source": [
    "The basic symbols we use are numbers and letters.Usually English or Greek letters.  $\\alpha$ $\\beta$ $\\gamma$\n",
    "\n",
    "Special symbols: =, >, $\\leq$, $\\subset$, $\\infty$\n",
    "\n",
    "#### Scientific Notation ####\n",
    "- Used for very large or very small numbers.\n",
    "- Numbers are expressed as decimals with exactly one digit before the decimal point\n",
    "- All other digits are expressed as a **power of 10**.\n",
    "    * $15000 = 1,5.10^4$\n",
    "    * $0,00001 5= 1,5.10^{−5}$\n",
    "    \n",
    "    \n",
    "#### Summation notation (\"sigma\" notation) ####\n",
    "- Used as a shorthand for writing long sums of numbers / symbols\n",
    "    * Very similar to a forloop in programming\n",
    "    * Greek capital \"sigma\" denotes the sum, the two numbers below and above it denote the start and end points.\n",
    "\n",
    "$$ \\sum_{i=1}^5 i = 1 + 2 + 3 + 4 + 5 $$   $$ \\sum_{k=1}^n x_k = x_1 + x_2 + ... + x_n $$\n",
    "\n",
    "\n",
    "\n",
    "#### Equality Sign ####\n",
    "Important as it has different meanings\n",
    "- Like programming: \"=\" \"==\", and \"===\"\n",
    "\n",
    "**1. Identity**\n",
    "\n",
    "The two statements around \"=\" are always equal:\n",
    "$ x(x + 3) = x^2 + 3x $\n",
    "\n",
    "We can also use the \"identity\" symbol:\n",
    "$ (a + b)^2 = a^2 + b^2 + 2ab $\n",
    "\n",
    "**2. Equation**\n",
    "\n",
    "The two statements are true only for specific values of the symbols:\n",
    "$ x^2 - 1 = 0, x = \\pm 1 $\n",
    "\n",
    "**3. Definition**\n",
    "(we can also use $:=$ or $\\equiv$ for math definitions)\n",
    "$$ \\sum x  := \\sum_{k=1}^n x_k := x_1 + x_2 + ... + x_n $$"
   ]
  },
  {
   "cell_type": "markdown",
   "id": "2eba0e56",
   "metadata": {},
   "source": [
    "### 4. Linear equation ###"
   ]
  },
  {
   "cell_type": "markdown",
   "id": "4f00a914",
   "metadata": {},
   "source": [
    "**General form:**\n",
    "$ ax + b = 0 $, where a y b are fixed numbers (parameters)\n",
    "\n",
    "Equations of a variable **𝑥**\n",
    "\n",
    "**𝑥** is **\"on it´s own\"**\n",
    "- *NOT inside a function (e.g. $sin(x)$, $e^x$)*\n",
    "- *NOT powers (e.g. $x^3$)*\n",
    "\n",
    "Examples\n",
    "- $ 2𝑥+3=0 $\n",
    "- $2(2𝑥+3)−3𝑥−3(−4+3𝑥)=12$\n",
    "\n",
    "Solutions of the parametric equation\n",
    "- $ a = 0, b = 0 \\Rightarrow 0.x = 0, \\forall x $ (every x is solution)\n",
    "- $ a = 0, b \\neq 0 \\Rightarrow 0x = -b$ (no possible solution)\n",
    "- $ a \\neq 0  \\Rightarrow x = -b/a $  (one solution, regardless of b)"
   ]
  },
  {
   "cell_type": "markdown",
   "id": "656bfeee",
   "metadata": {},
   "source": [
    "#### Exercise: Linear Equations ####\n",
    "Write a Python function which solves a linear equation given the definition from the previous cell.\n",
    "\n",
    "The function should accept the a and b as arguments.\n",
    "\n",
    "The function should return:\n",
    "- The solution, if there is only one\n",
    "- nan, if there is no solution\n",
    "- Empty list, if all x satisfy the equation"
   ]
  },
  {
   "cell_type": "code",
   "execution_count": 8,
   "id": "d19ed966",
   "metadata": {},
   "outputs": [],
   "source": [
    "import math\n",
    "\n",
    "\n",
    "def solve_linear_equation(a, b):\n",
    "    result = 0\n",
    "    \n",
    "    if a == 0 and b == 0:\n",
    "        result = []\n",
    "    elif a == 0 and b != 0:\n",
    "        result = math.nan\n",
    "    else:\n",
    "        result = -b / a\n",
    "    \n",
    "    return result"
   ]
  },
  {
   "cell_type": "code",
   "execution_count": 12,
   "id": "dd4db937",
   "metadata": {},
   "outputs": [
    {
     "name": "stdout",
     "output_type": "stream",
     "text": [
      "[]\n",
      "nan\n",
      "0.0\n",
      "-1.0\n",
      "2.12\n"
     ]
    }
   ],
   "source": [
    "#Test\n",
    "print(solve_linear_equation(0, 0)) # []\n",
    "print(solve_linear_equation(0, 5)) # nan\n",
    "print(solve_linear_equation(5, 0)) # 0.0\n",
    "print(solve_linear_equation(5, 5)) # -1.0\n",
    "print(solve_linear_equation(2.5, -5.3)) # 2.12"
   ]
  },
  {
   "cell_type": "markdown",
   "id": "66514f41",
   "metadata": {},
   "source": [
    "#### Linear Systems of Equations - Review ####\n",
    "Many simultaneous linear equations.\n",
    "\n",
    "To solve the system, we need to find values of the variable(s) which satisfy all equations at once.\n",
    "\n",
    "Even if all individual equations have solutions, the system may have no solution.\n",
    "\n",
    "Solution\n",
    "- Method 1: Solve one equation and substitute\n",
    "- Method 2: Use sum of equations\n",
    "- Later, we'll learn a faster way of solving these systems\n",
    "\n",
    "<img src=\"linear_system_substitution.jpg\" style=\"max-height: 300px\" />"
   ]
  },
  {
   "cell_type": "code",
   "execution_count": null,
   "id": "dc0be210",
   "metadata": {},
   "outputs": [],
   "source": []
  }
 ],
 "metadata": {
  "kernelspec": {
   "display_name": "Python 3 (ipykernel)",
   "language": "python",
   "name": "python3"
  },
  "language_info": {
   "codemirror_mode": {
    "name": "ipython",
    "version": 3
   },
   "file_extension": ".py",
   "mimetype": "text/x-python",
   "name": "python",
   "nbconvert_exporter": "python",
   "pygments_lexer": "ipython3",
   "version": "3.9.13"
  }
 },
 "nbformat": 4,
 "nbformat_minor": 5
}
