{
 "cells": [
  {
   "cell_type": "markdown",
   "id": "b958a911",
   "metadata": {},
   "source": [
    "# HIGH SCHOOL MATHS #"
   ]
  },
  {
   "cell_type": "markdown",
   "id": "683c4486",
   "metadata": {},
   "source": [
    "### Table of contents ###\n",
    "1. Motivating examples\n",
    "2. Methods\n",
    "    -  Divide and conquer\n",
    "    -  Scientific method\n",
    "3. Math notation\n",
    "   -  Scientific notation\n",
    "   -  Summation\n",
    "4. Linear equations and system of equations\n",
    "5. Quadratic function\n",
    "6. Libraries\n",
    "    - SymPy"
   ]
  },
  {
   "cell_type": "markdown",
   "id": "0765636a",
   "metadata": {},
   "source": [
    "### 1. Mathematics in Nature ###"
   ]
  },
  {
   "cell_type": "markdown",
   "id": "2c3143d1",
   "metadata": {},
   "source": [
    "**Honeycomb cells**\n",
    "\n",
    "Bees produce wax by consuming some of the honey they've made.\n",
    "\n",
    "Wax production takes time and energy (honey).\n",
    "\n",
    "The *hexagonal cells* leave no unused space, and consume the least amount of wax and energy.\n",
    "\n",
    "![Alt text](https://media.npr.org/assets/img/2013/05/13/honeycomb_wide-2c4f64a3a0de4582c1f62c306d23ef63da2e2d8c-s800-c85.webp) \n",
    "\n",
    "\n",
    "**Snowflakes**\n",
    "\n",
    "All snowflakes are unique but they are perfectly symmetrical.\n",
    "\n",
    "Each arm (unless damaged) is identical.\n",
    "\n",
    "This makes them strong enough to stay together.\n",
    "\n",
    "![Alt text](https://thewell.unc.edu/wp-content/uploads/sites/1007/2021/01/snowflakes.1200x675.shutterstock-1536x1024.jpg)\n",
    "\n",
    "\n",
    "\n",
    "**Romanesco broccoli**\n",
    "\n",
    "Each little floret looks exactly like the whole plant.\n",
    "\n",
    "This is called a *fractal*.\n",
    "\n",
    "Seen from above, the florets form a spiral.\n",
    "\n",
    "![Alt text](https://upload.wikimedia.org/wikipedia/commons/thumb/5/5e/Romanesco_broccoli_%28Brassica_oleracea%29.jpg/750px-Romanesco_broccoli_%28Brassica_oleracea%29.jpg)\n",
    "\n",
    "**Fibonacci spiral**\n",
    "\n",
    "Fibonacci spirals everywhere.\n",
    "\n",
    "Flowers, pinecones.\n",
    "\n",
    "Animal shells.\n",
    "\n",
    "Hurricanes.\n",
    "\n",
    "Galaxies.\n",
    "\n",
    "![Alt text](https://pbs.twimg.com/media/EXGR1U6UMAMFBKt?format=jpg&name=900x900)"
   ]
  },
  {
   "cell_type": "markdown",
   "id": "38e42efd",
   "metadata": {},
   "source": [
    "### 2. Methods ###"
   ]
  },
  {
   "cell_type": "markdown",
   "id": "ae3e3745",
   "metadata": {},
   "source": [
    "**2.1. Divide and conquer**\n",
    "+ Useful for any kind of problem. Especially in algorithms and debugging.\n",
    "\n",
    "+ **Assumption**: Complicated things are a combination of many, very simple things.\n",
    "+  Algorithms: for example, Merge sort.\n",
    "\n",
    "\n",
    "\n",
    "\n",
    "**2.2. The Scientific Method**\n",
    "+ Ask a question.\n",
    "\n",
    "+ Do some research.\n",
    "\n",
    "+ Form a hypothesis.\n",
    "\n",
    "+ Test the hypothesis with an experiment.\n",
    "\n",
    "+ Experiment works.\n",
    "⇒Analyze the data\n",
    "\n",
    "+ Experiment doesn't work.\n",
    "⇒Fix experiment\n",
    "\n",
    "+ Results align with hypothesis.\n",
    "⇒OK\n",
    "\n",
    "+ Results don't align with hypothesis.\n",
    "⇒new question, new hypothesis\n",
    "\n",
    "+ Communicate the results.\n",
    "\n",
    "\n",
    "**Why use the Scientific Method?**\n",
    "Useful when we're exploring something new.\n",
    "\n",
    "- A new algorithm.\n",
    "\n",
    "- A new codebase we've just been hired to work on.\n",
    "\n",
    "- Based on common logic.\n",
    "\n",
    "Experiments. Example: performance testing\n",
    "\n",
    "- Research:My logs show that this Web page on my server takes too much time to load.\n",
    "\n",
    "- Hypothesis: This piece of code is too slow. I need to improve it.\n",
    "\n",
    "- Control:Measure the runtime (in seconds).\n",
    "\n",
    "- Experiment: Try to fix the problem and repeat the runtime test.\n",
    "\n",
    "    - Did the fix bring a considerable performance gain?\n",
    "\n",
    "- Communication: Show the results and implement the fix."
   ]
  },
  {
   "cell_type": "markdown",
   "id": "45591abb",
   "metadata": {},
   "source": [
    "### 3. Math Notation ###"
   ]
  },
  {
   "cell_type": "markdown",
   "id": "2e90ef0c",
   "metadata": {},
   "source": [
    "The basic symbols we use are numbers and letters.Usually English or Greek letters.  $\\alpha$ $\\beta$ $\\gamma$\n",
    "\n",
    "Special symbols: =, >, $\\leq$, $\\subset$, $\\infty$\n",
    "\n",
    "#### Scientific Notation ####\n",
    "- Used for very large or very small numbers.\n",
    "- Numbers are expressed as decimals with exactly one digit before the decimal point\n",
    "- All other digits are expressed as a **power of 10**.\n",
    "    * $15000 = 1,5.10^4$\n",
    "    * $0,00001 5= 1,5.10^{−5}$\n",
    "    \n",
    "    \n",
    "#### Summation notation (\"sigma\" notation) ####\n",
    "- Used as a shorthand for writing long sums of numbers / symbols\n",
    "    * Very similar to a forloop in programming\n",
    "    * Greek capital \"sigma\" denotes the sum, the two numbers below and above it denote the start and end points.\n",
    "\n",
    "$$ \\sum_{i=1}^5 i = 1 + 2 + 3 + 4 + 5 $$   $$ \\sum_{k=1}^n x_k = x_1 + x_2 + ... + x_n $$\n",
    "\n",
    "\n",
    "\n",
    "#### Equality Sign ####\n",
    "Important as it has different meanings\n",
    "- Like programming: \"=\" \"==\", and \"===\"\n",
    "\n",
    "**1. Identity**\n",
    "\n",
    "The two statements around \"=\" are always equal:\n",
    "$ x(x + 3) = x^2 + 3x $\n",
    "\n",
    "We can also use the \"identity\" symbol:\n",
    "$ (a + b)^2 = a^2 + b^2 + 2ab $\n",
    "\n",
    "**2. Equation**\n",
    "\n",
    "The two statements are true only for specific values of the symbols:\n",
    "$ x^2 - 1 = 0, x = \\pm 1 $\n",
    "\n",
    "**3. Definition**\n",
    "(we can also use $:=$ or $\\equiv$ for math definitions)\n",
    "$$ \\sum x  := \\sum_{k=1}^n x_k := x_1 + x_2 + ... + x_n $$"
   ]
  },
  {
   "cell_type": "markdown",
   "id": "3adde427",
   "metadata": {},
   "source": [
    "### 4. Linear equation ###"
   ]
  },
  {
   "cell_type": "markdown",
   "id": "05781224",
   "metadata": {},
   "source": [
    "**General form:**\n",
    "$ ax + b = 0 $, where a y b are fixed numbers (parameters)\n",
    "\n",
    "Equations of a variable **𝑥**\n",
    "\n",
    "**𝑥** is **\"on it´s own\"**\n",
    "- *NOT inside a function (e.g. $sin(x)$, $e^x$)*\n",
    "- *NOT powers (e.g. $x^3$)*\n",
    "\n",
    "Examples\n",
    "- $ 2𝑥+3=0 $\n",
    "- $2(2𝑥+3)−3𝑥−3(−4+3𝑥)=12$\n",
    "\n",
    "Solutions of the parametric equation\n",
    "- $ a = 0, b = 0 \\Rightarrow 0.x = 0, \\forall x $ (every x is solution)\n",
    "- $ a = 0, b \\neq 0 \\Rightarrow 0x = -b$ (no possible solution)\n",
    "- $ a \\neq 0  \\Rightarrow x = -b/a $  (one solution, regardless of b)"
   ]
  },
  {
   "cell_type": "markdown",
   "id": "0fef62e9",
   "metadata": {},
   "source": [
    "#### Exercise: Linear Equations ####\n",
    "Write a Python function which solves a linear equation given the definition from the previous cell.\n",
    "\n",
    "The function should accept the a and b as arguments.\n",
    "\n",
    "The function should return:\n",
    "- The solution, if there is only one\n",
    "- nan, if there is no solution\n",
    "- Empty list, if all x satisfy the equation"
   ]
  },
  {
   "cell_type": "code",
   "execution_count": 1,
   "id": "933af139",
   "metadata": {},
   "outputs": [],
   "source": [
    "import math\n",
    "\n",
    "\n",
    "def solve_linear_equation(a, b):\n",
    "    result = 0\n",
    "    \n",
    "    if a == 0 and b == 0:\n",
    "        result = []\n",
    "    elif a == 0 and b != 0:\n",
    "        result = math.nan\n",
    "    else:\n",
    "        result = -b / a\n",
    "    \n",
    "    return result"
   ]
  },
  {
   "cell_type": "code",
   "execution_count": 2,
   "id": "1ee1a2d8",
   "metadata": {},
   "outputs": [
    {
     "name": "stdout",
     "output_type": "stream",
     "text": [
      "[]\n",
      "nan\n",
      "0.0\n",
      "-1.0\n",
      "2.12\n"
     ]
    }
   ],
   "source": [
    "#Test\n",
    "print(solve_linear_equation(0, 0)) # []\n",
    "print(solve_linear_equation(0, 5)) # nan\n",
    "print(solve_linear_equation(5, 0)) # 0.0\n",
    "print(solve_linear_equation(5, 5)) # -1.0\n",
    "print(solve_linear_equation(2.5, -5.3)) # 2.12"
   ]
  },
  {
   "cell_type": "markdown",
   "id": "d75c7180",
   "metadata": {},
   "source": [
    "#### Linear Systems of Equations - Review ####\n",
    "Many simultaneous linear equations.\n",
    "\n",
    "To solve the system, we need to find values of the variable(s) which satisfy all equations at once.\n",
    "\n",
    "Even if all individual equations have solutions, the system may have no solution.\n",
    "\n",
    "Solution\n",
    "- Method 1: Solve one equation and substitute\n",
    "- Method 2: Use sum of equations\n",
    "- Later, we'll learn a faster way of solving these systems\n",
    "\n",
    "<img src=\"linear_system_substitution.jpg\" style=\"max-height: 500px\" />"
   ]
  },
  {
   "cell_type": "markdown",
   "id": "9697408d",
   "metadata": {},
   "source": [
    "### 5. Quadratic Function ###"
   ]
  },
  {
   "cell_type": "markdown",
   "id": "2bee4431",
   "metadata": {},
   "source": [
    "**General form:**\n",
    "$ y = ax^2 + bx + c   \\Rightarrow    f(x) = ax^2 + bx + c $\n",
    "\n",
    "Equations of a variable **𝑥**\n",
    "\n",
    "a, b, c are **parameters**, fixed numbers.\n",
    "\n",
    "## $ y = ax^2 + bx + c $ ##\n",
    "\n",
    "\n",
    "$ \\Rightarrow  x_1 = \\frac{-b + \\sqrt{b - 4ac}}{2a} $\n",
    "\n",
    "$ \\Rightarrow  x_2 = \\frac{-b - \\sqrt{b - 4ac}}{2a} $\n",
    "\n",
    "\n",
    "**discriminant** \n",
    "\n",
    "$ \\triangle = b^2 - 4ac $\n",
    "\n",
    "![Alt text](https://d138zd1ktt9iqe.cloudfront.net/media/seo_landing_files/nature-of-roots-when-d-0-d-0-and-d-0-1636970533.png)\n"
   ]
  },
  {
   "cell_type": "markdown",
   "id": "846458f0",
   "metadata": {},
   "source": [
    "#### Quadratic Function in Programming ####"
   ]
  },
  {
   "cell_type": "code",
   "execution_count": 3,
   "id": "708c82c9",
   "metadata": {},
   "outputs": [],
   "source": [
    "import math\n",
    "\n",
    "\n",
    "def quadratic_function(a, b, c):\n",
    "    discriminant = b ** 2 - 4 * a * c\n",
    "    if discriminant > 0:\n",
    "        x_1 = (- b - math.sqrt(discriminant)) / 2 * a\n",
    "        x_2 = (- b + math.sqrt(discriminant)) / 2 * a\n",
    "        return [x_1, x_2]\n",
    "    \n",
    "    elif discriminant == 0:\n",
    "        x = (- b + math.sqrt(discriminant)) / 2 * a\n",
    "        return x\n",
    "    \n",
    "    elif discriminant < 0:\n",
    "        return [\"No real roots, D < 0\"]"
   ]
  },
  {
   "cell_type": "code",
   "execution_count": 4,
   "id": "3cd76ebd",
   "metadata": {},
   "outputs": [
    {
     "name": "stdout",
     "output_type": "stream",
     "text": [
      "[-1.0, 2.0]\n",
      "4.0\n",
      "['No real roots, D < 0']\n"
     ]
    }
   ],
   "source": [
    "# Test\n",
    "print(quadratic_function(1, -1, -2)) # [-1.0, 2.0]\n",
    "print(quadratic_function(1, -8, 16)) # [4.0]\n",
    "print(quadratic_function(1, 1, 1)) # No real roots"
   ]
  },
  {
   "cell_type": "markdown",
   "id": "2578020c",
   "metadata": {},
   "source": [
    "### 5. Libraries ###\n",
    "\n",
    "### - SymPy ###\n",
    "\n",
    "Sympy is a Python library for **symbolic mathemathics**. It aims to become a fully-featured *computer algebra system* (CAS) while keeping the code as simple as possible in order to be understandable and easily extensible. SymPy is written entirely in Python.\n",
    "\n",
    "#### Sympy Gamma ####\n",
    "A very useful website where you can find examples, documentation, etc.\n",
    "\n",
    "Click here [a link](https://gamma.sympy.org/input/?i=integrate) for quick accsess."
   ]
  },
  {
   "cell_type": "markdown",
   "id": "39610cd8",
   "metadata": {},
   "source": [
    "Let start working with sympy. First we always have to import what we´re going to use."
   ]
  },
  {
   "cell_type": "code",
   "execution_count": 5,
   "id": "6b5da9f6",
   "metadata": {},
   "outputs": [],
   "source": [
    "#Import\n",
    "from sympy import init_session"
   ]
  },
  {
   "cell_type": "code",
   "execution_count": 6,
   "id": "b257ae4a",
   "metadata": {},
   "outputs": [
    {
     "name": "stdout",
     "output_type": "stream",
     "text": [
      "IPython console for SymPy 1.10.1 (Python 3.9.13-64-bit) (ground types: python)\n",
      "\n",
      "These commands were executed:\n",
      ">>> from sympy import *\n",
      ">>> x, y, z, t = symbols('x y z t')\n",
      ">>> k, m, n = symbols('k m n', integer=True)\n",
      ">>> f, g, h = symbols('f g h', cls=Function)\n",
      ">>> init_printing()\n",
      "\n",
      "Documentation can be found at https://docs.sympy.org/1.10.1/\n",
      "\n"
     ]
    }
   ],
   "source": [
    "init_session(use_latex=True)"
   ]
  },
  {
   "cell_type": "markdown",
   "id": "dc82b378",
   "metadata": {},
   "source": [
    "With this, many sympy modules are loaded and we can see that many symbols such as x, y, z have been created that we will use."
   ]
  },
  {
   "cell_type": "code",
   "execution_count": 7,
   "id": "b515f439",
   "metadata": {},
   "outputs": [
    {
     "ename": "NameError",
     "evalue": "name 'b' is not defined",
     "output_type": "error",
     "traceback": [
      "\u001b[1;31m---------------------------------------------------------------------------\u001b[0m",
      "\u001b[1;31mNameError\u001b[0m                                 Traceback (most recent call last)",
      "\u001b[1;32m~\\AppData\\Local\\Temp\\ipykernel_528\\72834795.py\u001b[0m in \u001b[0;36m<module>\u001b[1;34m\u001b[0m\n\u001b[0;32m      1\u001b[0m \u001b[1;31m#Try to use a symbol that I have not created (symbol b)\u001b[0m\u001b[1;33m\u001b[0m\u001b[1;33m\u001b[0m\u001b[0m\n\u001b[1;32m----> 2\u001b[1;33m \u001b[0ma\u001b[0m \u001b[1;33m=\u001b[0m \u001b[1;36m2\u001b[0m \u001b[1;33m*\u001b[0m \u001b[0mb\u001b[0m\u001b[1;33m\u001b[0m\u001b[1;33m\u001b[0m\u001b[0m\n\u001b[0m",
      "\u001b[1;31mNameError\u001b[0m: name 'b' is not defined"
     ]
    }
   ],
   "source": [
    "#Try to use a symbol that I have not created (symbol b)\n",
    "a = 2 * b"
   ]
  },
  {
   "cell_type": "markdown",
   "id": "0d77fc38",
   "metadata": {},
   "source": [
    "As b had not been created. Python doesn't know what b is and throws an error.\n",
    "\n",
    "The same is true for sympy symbols. Before using a variable I must tell it that it is a symbol and assign it to it."
   ]
  },
  {
   "cell_type": "code",
   "execution_count": 8,
   "id": "215a95d1",
   "metadata": {},
   "outputs": [
    {
     "data": {
      "image/png": "[encoded data removed]",
      "text/latex": [
       "$\\displaystyle a$"
      ],
      "text/plain": [
       "a"
      ]
     },
     "execution_count": 8,
     "metadata": {},
     "output_type": "execute_result"
    }
   ],
   "source": [
    "# create symbol a\n",
    "a = symbols(\"a\")\n",
    "\n",
    "# once I create the symbol I can call it and Python won´t lanuch a error\n",
    "a"
   ]
  },
  {
   "cell_type": "code",
   "execution_count": 9,
   "id": "17ac0265",
   "metadata": {},
   "outputs": [
    {
     "data": {
      "image/png": "[encoded data removed]",
      "text/latex": [
       "$\\displaystyle \\left(a + \\pi\\right)^{2}$"
      ],
      "text/plain": [
       "       2\n",
       "(a + π) "
      ]
     },
     "execution_count": 9,
     "metadata": {},
     "output_type": "execute_result"
    }
   ],
   "source": [
    "# pi\n",
    "(a + pi)**2"
   ]
  },
  {
   "cell_type": "code",
   "execution_count": 10,
   "id": "f6f19506",
   "metadata": {},
   "outputs": [
    {
     "data": {
      "image/png": "[encoded data removed]",
      "text/latex": [
       "$\\displaystyle 1 + 2 i$"
      ],
      "text/plain": [
       "1 + 2⋅ⅈ"
      ]
     },
     "execution_count": 10,
     "metadata": {},
     "output_type": "execute_result"
    }
   ],
   "source": [
    "#imaginary unit\n",
    "1 + 2 * I"
   ]
  },
  {
   "cell_type": "code",
   "execution_count": 11,
   "id": "92b9423a",
   "metadata": {},
   "outputs": [
    {
     "data": {
      "image/png": "[encoded data removed]",
      "text/latex": [
       "$\\displaystyle e^{2}$"
      ],
      "text/plain": [
       " 2\n",
       "ℯ "
      ]
     },
     "execution_count": 11,
     "metadata": {},
     "output_type": "execute_result"
    }
   ],
   "source": [
    "#Eulers number\n",
    "E**2"
   ]
  },
  {
   "cell_type": "code",
   "execution_count": 12,
   "id": "4347ef7a",
   "metadata": {},
   "outputs": [
    {
     "data": {
      "text/plain": [
       "sympy.core.symbol.Symbol"
      ]
     },
     "execution_count": 12,
     "metadata": {},
     "output_type": "execute_result"
    }
   ],
   "source": [
    "#What type of variable is a?\n",
    "type(a)"
   ]
  },
  {
   "cell_type": "code",
   "execution_count": 13,
   "id": "9b6d7c0f",
   "metadata": {},
   "outputs": [
    {
     "data": {
      "text/plain": [
       "sympy.core.mul.Mul"
      ]
     },
     "execution_count": 13,
     "metadata": {},
     "output_type": "execute_result"
    }
   ],
   "source": [
    "#Now let´s create b and let see what type of variable is it\n",
    "b = 2 * a\n",
    "type(b)"
   ]
  },
  {
   "cell_type": "markdown",
   "id": "8e492816",
   "metadata": {},
   "source": [
    "Sympy works like many other symbolic algebra systems. They used to create an **expression tree**."
   ]
  },
  {
   "cell_type": "code",
   "execution_count": 14,
   "id": "17f9e42a",
   "metadata": {},
   "outputs": [],
   "source": [
    "#overwrite a variable  --> Python prevails --> mutable language\n",
    "b = 2.0"
   ]
  },
  {
   "cell_type": "code",
   "execution_count": 15,
   "id": "4ddc7918",
   "metadata": {},
   "outputs": [
    {
     "data": {
      "text/plain": [
       "float"
      ]
     },
     "execution_count": 15,
     "metadata": {},
     "output_type": "execute_result"
    }
   ],
   "source": [
    "type(b)"
   ]
  },
  {
   "cell_type": "code",
   "execution_count": 16,
   "id": "e269ed3d",
   "metadata": {},
   "outputs": [],
   "source": [
    "#create a symbols\n",
    "alpha, beta = symbols(\"alpha, beta\")"
   ]
  },
  {
   "cell_type": "code",
   "execution_count": 17,
   "id": "55fb78bb",
   "metadata": {},
   "outputs": [
    {
     "data": {
      "image/png": "[encoded data removed]",
      "text/latex": [
       "$\\displaystyle \\left( \\alpha, \\  \\beta\\right)$"
      ],
      "text/plain": [
       "(α, β)"
      ]
     },
     "execution_count": 17,
     "metadata": {},
     "output_type": "execute_result"
    }
   ],
   "source": [
    "alpha, beta"
   ]
  },
  {
   "cell_type": "markdown",
   "id": "abe43c59",
   "metadata": {},
   "source": [
    "In this case I use words recognized by LATEX. When I print these symbols, the corresponding mathematical expressions will be used."
   ]
  },
  {
   "cell_type": "code",
   "execution_count": 18,
   "id": "0bf0ced9",
   "metadata": {},
   "outputs": [
    {
     "data": {
      "image/png": "[encoded data removed]",
      "text/latex": [
       "$\\displaystyle c_{T}$"
      ],
      "text/plain": [
       "c_T"
      ]
     },
     "execution_count": 18,
     "metadata": {},
     "output_type": "execute_result"
    }
   ],
   "source": [
    "#create a sub-index\n",
    "c_T = symbols(\"c_T\")\n",
    "c_T"
   ]
  },
  {
   "cell_type": "markdown",
   "id": "95315093",
   "metadata": {},
   "source": [
    "I can even do weird things like:"
   ]
  },
  {
   "cell_type": "code",
   "execution_count": 19,
   "id": "08d88a33",
   "metadata": {},
   "outputs": [],
   "source": [
    "#Difference between variable and symbol\n",
    "b = symbols(\"d\")"
   ]
  },
  {
   "cell_type": "code",
   "execution_count": 20,
   "id": "8c77a9e1",
   "metadata": {},
   "outputs": [
    {
     "data": {
      "image/png": "[encoded data removed]",
      "text/latex": [
       "$\\displaystyle d$"
      ],
      "text/plain": [
       "d"
      ]
     },
     "execution_count": 20,
     "metadata": {},
     "output_type": "execute_result"
    }
   ],
   "source": [
    "b"
   ]
  },
  {
   "cell_type": "markdown",
   "id": "9fa8896f",
   "metadata": {},
   "source": [
    "Logically this is not a good practice.\n",
    "\n",
    "But sympy gives me as much flexibility as possible to do things I want."
   ]
  },
  {
   "cell_type": "markdown",
   "id": "3eae6801",
   "metadata": {},
   "source": [
    "**By default, SymPy understands that all numbers are complex**.\n",
    "\n",
    "This can produce results that are unexpected, such as logarithms. \n",
    "\n",
    "**We can indicate that the variable is a real number, an integer ... at the time of creation**."
   ]
  },
  {
   "cell_type": "code",
   "execution_count": 21,
   "id": "3ab17242",
   "metadata": {},
   "outputs": [
    {
     "data": {
      "text/plain": [
       "{'commutative': True}"
      ]
     },
     "execution_count": 21,
     "metadata": {},
     "output_type": "execute_result"
    }
   ],
   "source": [
    "# ******************** NUMBER PROPERTIES ******************** assumptions\n",
    "x.assumptions0"
   ]
  },
  {
   "cell_type": "markdown",
   "id": "b45f1c4e",
   "metadata": {},
   "source": [
    "SymPy has taken the assumption that the symbol x is a **commutative number**. This means that if I put it in an expression that for example involves a sum, SymPy will be able to alter the order of the sum, without altering the result."
   ]
  },
  {
   "cell_type": "code",
   "execution_count": 22,
   "id": "80935d13",
   "metadata": {},
   "outputs": [
    {
     "data": {
      "image/png": "[encoded data removed]",
      "text/latex": [
       "$\\displaystyle x$"
      ],
      "text/plain": [
       "x"
      ]
     },
     "execution_count": 22,
     "metadata": {},
     "output_type": "execute_result"
    }
   ],
   "source": [
    "#we can see the assumptions of a symbol\n",
    "x = symbols(\"x\", real = True, positive = True)\n",
    "x"
   ]
  },
  {
   "cell_type": "code",
   "execution_count": 25,
   "id": "5719ab27",
   "metadata": {},
   "outputs": [
    {
     "data": {
      "text/plain": [
       "{'real': True,\n",
       " 'extended_real': True,\n",
       " 'finite': True,\n",
       " 'complex': True,\n",
       " 'imaginary': False,\n",
       " 'commutative': True,\n",
       " 'infinite': False,\n",
       " 'hermitian': True,\n",
       " 'positive': True,\n",
       " 'extended_nonzero': True,\n",
       " 'extended_positive': True,\n",
       " 'nonzero': True,\n",
       " 'zero': False,\n",
       " 'negative': False,\n",
       " 'nonnegative': True,\n",
       " 'extended_nonnegative': True,\n",
       " 'extended_nonpositive': False,\n",
       " 'nonpositive': False,\n",
       " 'extended_negative': False}"
      ]
     },
     "execution_count": 25,
     "metadata": {},
     "output_type": "execute_result"
    }
   ],
   "source": [
    "# We can see that SymPy has taken more assumption about the symbol x. We use the property .assumptions0\n",
    "x.assumptions0"
   ]
  },
  {
   "cell_type": "markdown",
   "id": "c4585b12",
   "metadata": {},
   "source": [
    "## EXPRESSIONS\n",
    "\n",
    "Let´s create an expression like:"
   ]
  },
  {
   "cell_type": "code",
   "execution_count": 23,
   "id": "4ab39434",
   "metadata": {},
   "outputs": [
    {
     "data": {
      "image/png": "[encoded data removed]",
      "text/latex": [
       "$\\displaystyle \\sin^{2}{\\left(z \\right)} + \\cos^{2}{\\left(z \\right)}$"
      ],
      "text/plain": [
       "   2         2   \n",
       "sin (z) + cos (z)"
      ]
     },
     "execution_count": 23,
     "metadata": {},
     "output_type": "execute_result"
    }
   ],
   "source": [
    "cos(z)**2 + sin(z)**2"
   ]
  },
  {
   "cell_type": "markdown",
   "id": "a6bc0563",
   "metadata": {},
   "source": [
    "### simplify()\n",
    "\n",
    "We can ask sympy with the **simplify()** function to simplify the above function."
   ]
  },
  {
   "cell_type": "code",
   "execution_count": 24,
   "id": "185e27ea",
   "metadata": {},
   "outputs": [
    {
     "data": {
      "image/png": "[encoded data removed]",
      "text/latex": [
       "$\\displaystyle 1$"
      ],
      "text/plain": [
       "1"
      ]
     },
     "execution_count": 24,
     "metadata": {},
     "output_type": "execute_result"
    }
   ],
   "source": [
    "simplify(_23)"
   ]
  },
  {
   "cell_type": "markdown",
   "id": "fbee01dd",
   "metadata": {},
   "source": [
    "We take the line number of the notebook to simplify the function. In this case it is a clear trigonometric entity. Sin^2 + Cos^2 = 1\n",
    "\n",
    "Let´s see something different"
   ]
  },
  {
   "cell_type": "code",
   "execution_count": 25,
   "id": "ce1ad884",
   "metadata": {},
   "outputs": [
    {
     "data": {
      "image/png": "[encoded data removed]",
      "text/latex": [
       "$\\displaystyle \\sqrt{z^{2}}$"
      ],
      "text/plain": [
       "   ____\n",
       "  ╱  2 \n",
       "╲╱  z  "
      ]
     },
     "execution_count": 25,
     "metadata": {},
     "output_type": "execute_result"
    }
   ],
   "source": [
    "sqrt(z**2)"
   ]
  },
  {
   "cell_type": "code",
   "execution_count": 26,
   "id": "b0eac0a3",
   "metadata": {},
   "outputs": [
    {
     "data": {
      "image/png": "[encoded data removed]",
      "text/latex": [
       "$\\displaystyle \\sqrt{z^{2}}$"
      ],
      "text/plain": [
       "   ____\n",
       "  ╱  2 \n",
       "╲╱  z  "
      ]
     },
     "execution_count": 26,
     "metadata": {},
     "output_type": "execute_result"
    }
   ],
   "source": [
    "simplify(_25)"
   ]
  },
  {
   "cell_type": "markdown",
   "id": "09e2a3cf",
   "metadata": {},
   "source": [
    "You might think it would give z, but it's not true for this case. If I create a variable and that is a real number. Let's see:"
   ]
  },
  {
   "cell_type": "code",
   "execution_count": 27,
   "id": "2f4033ca",
   "metadata": {},
   "outputs": [],
   "source": [
    "y = symbols(\"y\", real = True)"
   ]
  },
  {
   "cell_type": "code",
   "execution_count": 28,
   "id": "af1e63eb",
   "metadata": {},
   "outputs": [
    {
     "data": {
      "image/png": "[encoded data removed]",
      "text/latex": [
       "$\\displaystyle \\left|{y}\\right|$"
      ],
      "text/plain": [
       "│y│"
      ]
     },
     "execution_count": 28,
     "metadata": {},
     "output_type": "execute_result"
    }
   ],
   "source": [
    "sqrt(y**2)"
   ]
  },
  {
   "cell_type": "markdown",
   "id": "a2108aab",
   "metadata": {},
   "source": [
    "Correct, being a real number it returns the absolute value.Because I specify that is a real number, but i haven´t specified that is a possitive."
   ]
  },
  {
   "cell_type": "code",
   "execution_count": 29,
   "id": "7114b74b",
   "metadata": {},
   "outputs": [
    {
     "data": {
      "image/png": "[encoded data removed]",
      "text/latex": [
       "$\\displaystyle x$"
      ],
      "text/plain": [
       "x"
      ]
     },
     "execution_count": 29,
     "metadata": {},
     "output_type": "execute_result"
    }
   ],
   "source": [
    "#x = symbols(\"x\", real = True, positive = True)\n",
    "simplify(sqrt(x**2))"
   ]
  },
  {
   "cell_type": "markdown",
   "id": "d264a6f8",
   "metadata": {},
   "source": [
    "## .subs()\n",
    "\n",
    "Sometimes we can substitute a variable for another, for another expression or value"
   ]
  },
  {
   "cell_type": "code",
   "execution_count": 30,
   "id": "dafce3c1",
   "metadata": {},
   "outputs": [
    {
     "data": {
      "image/png": "[encoded data removed]",
      "text/latex": [
       "$\\displaystyle \\sin^{2}{\\left(x^{2} + 1 \\right)} + \\cos^{2}{\\left(x^{2} + 1 \\right)}$"
      ],
      "text/plain": [
       "   2⎛ 2    ⎞      2⎛ 2    ⎞\n",
       "sin ⎝x  + 1⎠ + cos ⎝x  + 1⎠"
      ]
     },
     "execution_count": 30,
     "metadata": {},
     "output_type": "execute_result"
    }
   ],
   "source": [
    "expression = cos(z)**2 + sin(z)**2\n",
    "\n",
    "expression.subs(z, 1 + x**2)"
   ]
  },
  {
   "cell_type": "code",
   "execution_count": 31,
   "id": "8837e8a0",
   "metadata": {},
   "outputs": [
    {
     "data": {
      "image/png": "[encoded data removed]",
      "text/latex": [
       "$\\displaystyle e^{x}$"
      ],
      "text/plain": [
       " x\n",
       "ℯ "
      ]
     },
     "execution_count": 31,
     "metadata": {},
     "output_type": "execute_result"
    }
   ],
   "source": [
    "# change expression sin(x) by exp(x)\n",
    "sin(x).replace(sin, exp)"
   ]
  },
  {
   "cell_type": "markdown",
   "id": "7a9fa469",
   "metadata": {},
   "source": [
    "## Simplify\n",
    "\n",
    "\n",
    "SymPy offers numerous functions to **simplify and manipulate functions**. Among others, the following stand out:\n",
    "  -  expand()\n",
    "  - factor()\n",
    "  - collect()\n",
    "  - apart()\n",
    "  - cancel()\n",
    "  \n",
    "Let´s create some symbols without any hypotesis and let´s manipulate some expressions."
   ]
  },
  {
   "cell_type": "code",
   "execution_count": 32,
   "id": "f4058d8d",
   "metadata": {},
   "outputs": [],
   "source": [
    "x, y, z, t = symbols(\"x, y, z, t\")"
   ]
  },
  {
   "cell_type": "code",
   "execution_count": 33,
   "id": "bdfaa923",
   "metadata": {},
   "outputs": [
    {
     "data": {
      "image/png": "[encoded data removed]",
      "text/latex": [
       "$\\displaystyle \\left(x^{3} + 3 y + 2\\right)^{2}$"
      ],
      "text/plain": [
       "              2\n",
       "⎛ 3          ⎞ \n",
       "⎝x  + 3⋅y + 2⎠ "
      ]
     },
     "execution_count": 33,
     "metadata": {},
     "output_type": "execute_result"
    }
   ],
   "source": [
    "# 1\n",
    "(x**3 + 3* y + 2)**2"
   ]
  },
  {
   "cell_type": "code",
   "execution_count": 34,
   "id": "3c539e2f",
   "metadata": {},
   "outputs": [
    {
     "data": {
      "image/png": "[encoded data removed]",
      "text/latex": [
       "$\\displaystyle x^{6} + 6 x^{3} y + 4 x^{3} + 9 y^{2} + 12 y + 4$"
      ],
      "text/plain": [
       " 6      3        3      2           \n",
       "x  + 6⋅x ⋅y + 4⋅x  + 9⋅y  + 12⋅y + 4"
      ]
     },
     "execution_count": 34,
     "metadata": {},
     "output_type": "execute_result"
    }
   ],
   "source": [
    "expand(_)"
   ]
  },
  {
   "cell_type": "code",
   "execution_count": null,
   "id": "16fe9b97",
   "metadata": {},
   "outputs": [],
   "source": []
  },
  {
   "cell_type": "code",
   "execution_count": 35,
   "id": "bcac8312",
   "metadata": {},
   "outputs": [
    {
     "data": {
      "image/png": "[encoded data removed]",
      "text/latex": [
       "$\\displaystyle \\frac{3 x^{2} + 2 x + 1}{\\left(x - 1\\right)^{2}}$"
      ],
      "text/plain": [
       "   2          \n",
       "3⋅x  + 2⋅x + 1\n",
       "──────────────\n",
       "          2   \n",
       "   (x - 1)    "
      ]
     },
     "execution_count": 35,
     "metadata": {},
     "output_type": "execute_result"
    }
   ],
   "source": [
    "# If we have a function and we want to decompose it into the sum of simple fractions:\n",
    "(3 * x **2 + 2 * x + 1) / (x - 1)**2"
   ]
  },
  {
   "cell_type": "code",
   "execution_count": 36,
   "id": "c7950558",
   "metadata": {},
   "outputs": [
    {
     "data": {
      "image/png": "[encoded data removed]",
      "text/latex": [
       "$\\displaystyle 3 + \\frac{8}{x - 1} + \\frac{6}{\\left(x - 1\\right)^{2}}$"
      ],
      "text/plain": [
       "      8        6    \n",
       "3 + ───── + ────────\n",
       "    x - 1          2\n",
       "            (x - 1) "
      ]
     },
     "execution_count": 36,
     "metadata": {},
     "output_type": "execute_result"
    }
   ],
   "source": [
    "#we have to use the method apart()\n",
    "apart(_)"
   ]
  },
  {
   "cell_type": "code",
   "execution_count": null,
   "id": "ac27e3f2",
   "metadata": {},
   "outputs": [],
   "source": []
  },
  {
   "cell_type": "code",
   "execution_count": 37,
   "id": "78ea3c23",
   "metadata": {},
   "outputs": [
    {
     "data": {
      "image/png": "[encoded data removed]",
      "text/latex": [
       "$\\displaystyle x^{3} + 9 x^{2} + 27 x + 27$"
      ],
      "text/plain": [
       " 3      2            \n",
       "x  + 9⋅x  + 27⋅x + 27"
      ]
     },
     "execution_count": 37,
     "metadata": {},
     "output_type": "execute_result"
    }
   ],
   "source": [
    "# now let´s do the opposite. I have a polynomial and I want to factorize it.\n",
    "x **3 + 9 * x **2 + 27 * x + 27"
   ]
  },
  {
   "cell_type": "code",
   "execution_count": 38,
   "id": "be84b5be",
   "metadata": {},
   "outputs": [
    {
     "data": {
      "image/png": "[encoded data removed]",
      "text/latex": [
       "$\\displaystyle \\left(x + 3\\right)^{3}$"
      ],
      "text/plain": [
       "       3\n",
       "(x + 3) "
      ]
     },
     "execution_count": 38,
     "metadata": {},
     "output_type": "execute_result"
    }
   ],
   "source": [
    "factor(_)"
   ]
  },
  {
   "cell_type": "code",
   "execution_count": null,
   "id": "34205815",
   "metadata": {},
   "outputs": [],
   "source": []
  }
 ],
 "metadata": {
  "kernelspec": {
   "display_name": "Python 3 (ipykernel)",
   "language": "python",
   "name": "python3"
  },
  "language_info": {
   "codemirror_mode": {
    "name": "ipython",
    "version": 3
   },
   "file_extension": ".py",
   "mimetype": "text/x-python",
   "name": "python",
   "nbconvert_exporter": "python",
   "pygments_lexer": "ipython3",
   "version": "3.9.13"
  }
 },
 "nbformat": 4,
 "nbformat_minor": 5
}
